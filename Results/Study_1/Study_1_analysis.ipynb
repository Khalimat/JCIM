{
 "cells": [
  {
   "cell_type": "markdown",
   "metadata": {},
   "source": [
    "# Importing"
   ]
  },
  {
   "cell_type": "code",
   "execution_count": 1,
   "metadata": {},
   "outputs": [],
   "source": [
    "from pathlib import Path\n",
    "from scipy.stats.mstats import gmean\n",
    "import pandas as pd\n",
    "from scipy.stats import wilcoxon, ttest_ind\n",
    "from scipy.stats import shapiro\n",
    "from scipy.stats import friedmanchisquare\n",
    "import numpy as np"
   ]
  },
  {
   "cell_type": "markdown",
   "metadata": {},
   "source": [
    "# Study design 1"
   ]
  },
  {
   "cell_type": "markdown",
   "metadata": {},
   "source": [
    "Althought I am comparing more than two classifiers (${k = 3}$, tree) on multiple datasets (tree, ${N=3}$), I cannot use ANOVA (data did not pass the Shapiro–Wilk test) and Friedman test (due to the assumption that the test statistic has a ${\\chi}^2$ distribution, the p-value is only reliable if ${N > 10}$ and ${k > 5}$) (demvsar2006statistical). Thus, I am calculating the average statistic per dataset, then use these averages to compare the performance on using the Wilcoxon test.\n",
    "\n",
    "@article{demvsar2006statistical,\n",
    "  title={Statistical comparisons of classifiers over multiple data sets},\n",
    "  author={Dem{\\v{s}}ar, Janez},\n",
    "  journal={The Journal of Machine Learning Research},\n",
    "  volume={7},\n",
    "  pages={1--30},\n",
    "  year={2006},\n",
    "  publisher={JMLR. org}\n",
    "}"
   ]
  },
  {
   "cell_type": "markdown",
   "metadata": {},
   "source": [
    "## Implementation"
   ]
  },
  {
   "cell_type": "code",
   "execution_count": 61,
   "metadata": {},
   "outputs": [],
   "source": [
    "def caclculate_average_for_ds(dataset_name, path):\n",
    "    TF_AL_ds_av = []\n",
    "    TF_non_AL_ds_av = []\n",
    "    DS_ad_av = []\n",
    "    for directory in Path(path).iterdir():\n",
    "        if str(directory).split('/')[-1] != 'figures':\n",
    "            if str(directory).split('/')[-1].split('_')[1] in ['SF', 'SP1', 'SP2']:\n",
    "                TF_AL = pd.read_csv(directory / 'TF_ML_AL.csv').iloc[:, 2:].mean()\n",
    "                TF_non_AL = pd.read_csv(directory / 'TF_ML_non_AL.csv').iloc[:, 2:].mean()\n",
    "                DS = pd.read_csv(directory / 'DeepSCAMs.csv').iloc[:, 2:].mean()\n",
    "                TF_AL_ds_av.append(TF_AL.tolist())\n",
    "                TF_non_AL_ds_av.append(TF_non_AL.tolist())\n",
    "                DS_ad_av.append(DS.tolist())\n",
    "    res = [np.array(it) for it in [TF_AL_ds_av, TF_non_AL_ds_av, DS_ad_av]]\n",
    "    return res\n",
    "            "
   ]
  },
  {
   "cell_type": "markdown",
   "metadata": {},
   "source": [
    "## SF"
   ]
  },
  {
   "cell_type": "code",
   "execution_count": 86,
   "metadata": {},
   "outputs": [],
   "source": [
    "TF_AL_ds_av_1, TF_non_AL_ds_av_1, DS_ad_av_1 = caclculate_average_for_ds('SF', \n",
    "                                                                         '/home/khali/scams/Results/Study_1')"
   ]
  },
  {
   "cell_type": "code",
   "execution_count": 87,
   "metadata": {},
   "outputs": [
    {
     "data": {
      "text/html": [
       "<div>\n",
       "<style scoped>\n",
       "    .dataframe tbody tr th:only-of-type {\n",
       "        vertical-align: middle;\n",
       "    }\n",
       "\n",
       "    .dataframe tbody tr th {\n",
       "        vertical-align: top;\n",
       "    }\n",
       "\n",
       "    .dataframe thead th {\n",
       "        text-align: right;\n",
       "    }\n",
       "</style>\n",
       "<table border=\"1\" class=\"dataframe\">\n",
       "  <thead>\n",
       "    <tr style=\"text-align: right;\">\n",
       "      <th></th>\n",
       "      <th>0</th>\n",
       "      <th>1</th>\n",
       "      <th>2</th>\n",
       "      <th>3</th>\n",
       "      <th>4</th>\n",
       "      <th>5</th>\n",
       "      <th>6</th>\n",
       "      <th>7</th>\n",
       "      <th>8</th>\n",
       "      <th>9</th>\n",
       "      <th>10</th>\n",
       "      <th>11</th>\n",
       "    </tr>\n",
       "  </thead>\n",
       "  <tbody>\n",
       "    <tr>\n",
       "      <th>0</th>\n",
       "      <td>0.815843</td>\n",
       "      <td>0.891271</td>\n",
       "      <td>0.966699</td>\n",
       "      <td>0.701538</td>\n",
       "      <td>0.757625</td>\n",
       "      <td>0.490036</td>\n",
       "      <td>0.707130</td>\n",
       "      <td>0.756586</td>\n",
       "      <td>0.806043</td>\n",
       "      <td>0.623214</td>\n",
       "      <td>0.551099</td>\n",
       "      <td>0.349265</td>\n",
       "    </tr>\n",
       "    <tr>\n",
       "      <th>1</th>\n",
       "      <td>0.690072</td>\n",
       "      <td>0.802087</td>\n",
       "      <td>0.914103</td>\n",
       "      <td>0.606154</td>\n",
       "      <td>0.303773</td>\n",
       "      <td>0.279071</td>\n",
       "      <td>0.771483</td>\n",
       "      <td>0.823425</td>\n",
       "      <td>0.875366</td>\n",
       "      <td>0.753455</td>\n",
       "      <td>0.329306</td>\n",
       "      <td>0.299038</td>\n",
       "    </tr>\n",
       "    <tr>\n",
       "      <th>2</th>\n",
       "      <td>0.802020</td>\n",
       "      <td>0.882638</td>\n",
       "      <td>0.963255</td>\n",
       "      <td>0.793846</td>\n",
       "      <td>0.785679</td>\n",
       "      <td>0.594243</td>\n",
       "      <td>0.736724</td>\n",
       "      <td>0.781723</td>\n",
       "      <td>0.826721</td>\n",
       "      <td>0.708163</td>\n",
       "      <td>0.721009</td>\n",
       "      <td>0.419166</td>\n",
       "    </tr>\n",
       "    <tr>\n",
       "      <th>3</th>\n",
       "      <td>0.772519</td>\n",
       "      <td>0.861243</td>\n",
       "      <td>0.949966</td>\n",
       "      <td>0.723077</td>\n",
       "      <td>0.753633</td>\n",
       "      <td>0.487937</td>\n",
       "      <td>0.751429</td>\n",
       "      <td>0.791077</td>\n",
       "      <td>0.830724</td>\n",
       "      <td>0.722441</td>\n",
       "      <td>0.787970</td>\n",
       "      <td>0.403838</td>\n",
       "    </tr>\n",
       "    <tr>\n",
       "      <th>4</th>\n",
       "      <td>0.768710</td>\n",
       "      <td>0.857590</td>\n",
       "      <td>0.946471</td>\n",
       "      <td>0.547692</td>\n",
       "      <td>0.678962</td>\n",
       "      <td>0.293666</td>\n",
       "      <td>0.653881</td>\n",
       "      <td>0.701404</td>\n",
       "      <td>0.748927</td>\n",
       "      <td>0.382122</td>\n",
       "      <td>0.480951</td>\n",
       "      <td>0.205384</td>\n",
       "    </tr>\n",
       "    <tr>\n",
       "      <th>5</th>\n",
       "      <td>0.699413</td>\n",
       "      <td>0.808159</td>\n",
       "      <td>0.916906</td>\n",
       "      <td>0.589231</td>\n",
       "      <td>0.222841</td>\n",
       "      <td>0.331133</td>\n",
       "      <td>0.765796</td>\n",
       "      <td>0.818332</td>\n",
       "      <td>0.870869</td>\n",
       "      <td>0.743431</td>\n",
       "      <td>0.254626</td>\n",
       "      <td>0.291165</td>\n",
       "    </tr>\n",
       "    <tr>\n",
       "      <th>6</th>\n",
       "      <td>0.780155</td>\n",
       "      <td>0.866888</td>\n",
       "      <td>0.953621</td>\n",
       "      <td>0.772308</td>\n",
       "      <td>0.762342</td>\n",
       "      <td>0.558177</td>\n",
       "      <td>0.726259</td>\n",
       "      <td>0.772518</td>\n",
       "      <td>0.818778</td>\n",
       "      <td>0.704348</td>\n",
       "      <td>0.711964</td>\n",
       "      <td>0.416924</td>\n",
       "    </tr>\n",
       "    <tr>\n",
       "      <th>7</th>\n",
       "      <td>0.777735</td>\n",
       "      <td>0.864991</td>\n",
       "      <td>0.952246</td>\n",
       "      <td>0.732308</td>\n",
       "      <td>0.762903</td>\n",
       "      <td>0.513556</td>\n",
       "      <td>0.758147</td>\n",
       "      <td>0.797285</td>\n",
       "      <td>0.836424</td>\n",
       "      <td>0.734971</td>\n",
       "      <td>0.796566</td>\n",
       "      <td>0.429708</td>\n",
       "    </tr>\n",
       "    <tr>\n",
       "      <th>8</th>\n",
       "      <td>0.685683</td>\n",
       "      <td>0.797723</td>\n",
       "      <td>0.909763</td>\n",
       "      <td>0.580000</td>\n",
       "      <td>0.212563</td>\n",
       "      <td>0.272264</td>\n",
       "      <td>0.730746</td>\n",
       "      <td>0.789745</td>\n",
       "      <td>0.848744</td>\n",
       "      <td>0.750545</td>\n",
       "      <td>0.262730</td>\n",
       "      <td>0.244789</td>\n",
       "    </tr>\n",
       "  </tbody>\n",
       "</table>\n",
       "</div>"
      ],
      "text/plain": [
       "         0         1         2         3         4         5         6   \\\n",
       "0  0.815843  0.891271  0.966699  0.701538  0.757625  0.490036  0.707130   \n",
       "1  0.690072  0.802087  0.914103  0.606154  0.303773  0.279071  0.771483   \n",
       "2  0.802020  0.882638  0.963255  0.793846  0.785679  0.594243  0.736724   \n",
       "3  0.772519  0.861243  0.949966  0.723077  0.753633  0.487937  0.751429   \n",
       "4  0.768710  0.857590  0.946471  0.547692  0.678962  0.293666  0.653881   \n",
       "5  0.699413  0.808159  0.916906  0.589231  0.222841  0.331133  0.765796   \n",
       "6  0.780155  0.866888  0.953621  0.772308  0.762342  0.558177  0.726259   \n",
       "7  0.777735  0.864991  0.952246  0.732308  0.762903  0.513556  0.758147   \n",
       "8  0.685683  0.797723  0.909763  0.580000  0.212563  0.272264  0.730746   \n",
       "\n",
       "         7         8         9         10        11  \n",
       "0  0.756586  0.806043  0.623214  0.551099  0.349265  \n",
       "1  0.823425  0.875366  0.753455  0.329306  0.299038  \n",
       "2  0.781723  0.826721  0.708163  0.721009  0.419166  \n",
       "3  0.791077  0.830724  0.722441  0.787970  0.403838  \n",
       "4  0.701404  0.748927  0.382122  0.480951  0.205384  \n",
       "5  0.818332  0.870869  0.743431  0.254626  0.291165  \n",
       "6  0.772518  0.818778  0.704348  0.711964  0.416924  \n",
       "7  0.797285  0.836424  0.734971  0.796566  0.429708  \n",
       "8  0.789745  0.848744  0.750545  0.262730  0.244789  "
      ]
     },
     "execution_count": 87,
     "metadata": {},
     "output_type": "execute_result"
    }
   ],
   "source": [
    "pd.DataFrame(TF_non_AL_ds_av_1)"
   ]
  },
  {
   "cell_type": "code",
   "execution_count": 88,
   "metadata": {
    "scrolled": true
   },
   "outputs": [
    {
     "data": {
      "text/html": [
       "<div>\n",
       "<style scoped>\n",
       "    .dataframe tbody tr th:only-of-type {\n",
       "        vertical-align: middle;\n",
       "    }\n",
       "\n",
       "    .dataframe tbody tr th {\n",
       "        vertical-align: top;\n",
       "    }\n",
       "\n",
       "    .dataframe thead th {\n",
       "        text-align: right;\n",
       "    }\n",
       "</style>\n",
       "<table border=\"1\" class=\"dataframe\">\n",
       "  <thead>\n",
       "    <tr style=\"text-align: right;\">\n",
       "      <th></th>\n",
       "      <th>0</th>\n",
       "      <th>1</th>\n",
       "      <th>2</th>\n",
       "      <th>3</th>\n",
       "      <th>4</th>\n",
       "      <th>5</th>\n",
       "      <th>6</th>\n",
       "      <th>7</th>\n",
       "      <th>8</th>\n",
       "      <th>9</th>\n",
       "      <th>10</th>\n",
       "      <th>11</th>\n",
       "    </tr>\n",
       "  </thead>\n",
       "  <tbody>\n",
       "    <tr>\n",
       "      <th>0</th>\n",
       "      <td>0.875720</td>\n",
       "      <td>0.935436</td>\n",
       "      <td>0.994723</td>\n",
       "      <td>0.818462</td>\n",
       "      <td>0.829219</td>\n",
       "      <td>0.658837</td>\n",
       "      <td>0.805077</td>\n",
       "      <td>0.844760</td>\n",
       "      <td>0.884447</td>\n",
       "      <td>0.744388</td>\n",
       "      <td>0.635950</td>\n",
       "      <td>0.486215</td>\n",
       "    </tr>\n",
       "    <tr>\n",
       "      <th>3</th>\n",
       "      <td>0.852505</td>\n",
       "      <td>0.918786</td>\n",
       "      <td>0.985928</td>\n",
       "      <td>0.833846</td>\n",
       "      <td>0.839770</td>\n",
       "      <td>0.680352</td>\n",
       "      <td>0.818928</td>\n",
       "      <td>0.852702</td>\n",
       "      <td>0.886522</td>\n",
       "      <td>0.799213</td>\n",
       "      <td>0.840355</td>\n",
       "      <td>0.575861</td>\n",
       "    </tr>\n",
       "    <tr>\n",
       "      <th>6</th>\n",
       "      <td>0.867392</td>\n",
       "      <td>0.928558</td>\n",
       "      <td>0.989766</td>\n",
       "      <td>0.864615</td>\n",
       "      <td>0.862450</td>\n",
       "      <td>0.737259</td>\n",
       "      <td>0.796456</td>\n",
       "      <td>0.836033</td>\n",
       "      <td>0.875674</td>\n",
       "      <td>0.775959</td>\n",
       "      <td>0.780949</td>\n",
       "      <td>0.552618</td>\n",
       "    </tr>\n",
       "  </tbody>\n",
       "</table>\n",
       "</div>"
      ],
      "text/plain": [
       "         0         1         2         3         4         5         6   \\\n",
       "0  0.875720  0.935436  0.994723  0.818462  0.829219  0.658837  0.805077   \n",
       "3  0.852505  0.918786  0.985928  0.833846  0.839770  0.680352  0.818928   \n",
       "6  0.867392  0.928558  0.989766  0.864615  0.862450  0.737259  0.796456   \n",
       "\n",
       "         7         8         9         10        11  \n",
       "0  0.844760  0.884447  0.744388  0.635950  0.486215  \n",
       "3  0.852702  0.886522  0.799213  0.840355  0.575861  \n",
       "6  0.836033  0.875674  0.775959  0.780949  0.552618  "
      ]
     },
     "execution_count": 88,
     "metadata": {},
     "output_type": "execute_result"
    }
   ],
   "source": [
    "pd.DataFrame(TF_AL_ds_av_1).iloc[::3, :]"
   ]
  },
  {
   "cell_type": "code",
   "execution_count": 89,
   "metadata": {
    "scrolled": true
   },
   "outputs": [
    {
     "data": {
      "text/html": [
       "<div>\n",
       "<style scoped>\n",
       "    .dataframe tbody tr th:only-of-type {\n",
       "        vertical-align: middle;\n",
       "    }\n",
       "\n",
       "    .dataframe tbody tr th {\n",
       "        vertical-align: top;\n",
       "    }\n",
       "\n",
       "    .dataframe thead th {\n",
       "        text-align: right;\n",
       "    }\n",
       "</style>\n",
       "<table border=\"1\" class=\"dataframe\">\n",
       "  <thead>\n",
       "    <tr style=\"text-align: right;\">\n",
       "      <th></th>\n",
       "      <th>0</th>\n",
       "      <th>1</th>\n",
       "      <th>2</th>\n",
       "      <th>3</th>\n",
       "      <th>4</th>\n",
       "      <th>5</th>\n",
       "      <th>6</th>\n",
       "      <th>7</th>\n",
       "      <th>8</th>\n",
       "      <th>9</th>\n",
       "      <th>10</th>\n",
       "      <th>11</th>\n",
       "    </tr>\n",
       "  </thead>\n",
       "  <tbody>\n",
       "    <tr>\n",
       "      <th>1</th>\n",
       "      <td>0.807201</td>\n",
       "      <td>0.887666</td>\n",
       "      <td>0.969823</td>\n",
       "      <td>0.818462</td>\n",
       "      <td>0.788938</td>\n",
       "      <td>0.660542</td>\n",
       "      <td>0.866674</td>\n",
       "      <td>0.904050</td>\n",
       "      <td>0.941608</td>\n",
       "      <td>0.852727</td>\n",
       "      <td>0.727775</td>\n",
       "      <td>0.629982</td>\n",
       "    </tr>\n",
       "    <tr>\n",
       "      <th>4</th>\n",
       "      <td>0.844546</td>\n",
       "      <td>0.915228</td>\n",
       "      <td>0.987187</td>\n",
       "      <td>0.746154</td>\n",
       "      <td>0.780820</td>\n",
       "      <td>0.552260</td>\n",
       "      <td>0.761145</td>\n",
       "      <td>0.801040</td>\n",
       "      <td>0.841286</td>\n",
       "      <td>0.638310</td>\n",
       "      <td>0.574746</td>\n",
       "      <td>0.371246</td>\n",
       "    </tr>\n",
       "    <tr>\n",
       "      <th>7</th>\n",
       "      <td>0.845926</td>\n",
       "      <td>0.913947</td>\n",
       "      <td>0.984310</td>\n",
       "      <td>0.836923</td>\n",
       "      <td>0.841353</td>\n",
       "      <td>0.686125</td>\n",
       "      <td>0.822001</td>\n",
       "      <td>0.855345</td>\n",
       "      <td>0.888769</td>\n",
       "      <td>0.798428</td>\n",
       "      <td>0.841772</td>\n",
       "      <td>0.572258</td>\n",
       "    </tr>\n",
       "  </tbody>\n",
       "</table>\n",
       "</div>"
      ],
      "text/plain": [
       "         0         1         2         3         4         5         6   \\\n",
       "1  0.807201  0.887666  0.969823  0.818462  0.788938  0.660542  0.866674   \n",
       "4  0.844546  0.915228  0.987187  0.746154  0.780820  0.552260  0.761145   \n",
       "7  0.845926  0.913947  0.984310  0.836923  0.841353  0.686125  0.822001   \n",
       "\n",
       "         7         8         9         10        11  \n",
       "1  0.904050  0.941608  0.852727  0.727775  0.629982  \n",
       "4  0.801040  0.841286  0.638310  0.574746  0.371246  \n",
       "7  0.855345  0.888769  0.798428  0.841772  0.572258  "
      ]
     },
     "execution_count": 89,
     "metadata": {},
     "output_type": "execute_result"
    }
   ],
   "source": [
    "pd.DataFrame(TF_AL_ds_av_1).iloc[1::3, :]"
   ]
  },
  {
   "cell_type": "code",
   "execution_count": 90,
   "metadata": {},
   "outputs": [
    {
     "data": {
      "text/html": [
       "<div>\n",
       "<style scoped>\n",
       "    .dataframe tbody tr th:only-of-type {\n",
       "        vertical-align: middle;\n",
       "    }\n",
       "\n",
       "    .dataframe tbody tr th {\n",
       "        vertical-align: top;\n",
       "    }\n",
       "\n",
       "    .dataframe thead th {\n",
       "        text-align: right;\n",
       "    }\n",
       "</style>\n",
       "<table border=\"1\" class=\"dataframe\">\n",
       "  <thead>\n",
       "    <tr style=\"text-align: right;\">\n",
       "      <th></th>\n",
       "      <th>0</th>\n",
       "      <th>1</th>\n",
       "      <th>2</th>\n",
       "      <th>3</th>\n",
       "      <th>4</th>\n",
       "      <th>5</th>\n",
       "      <th>6</th>\n",
       "      <th>7</th>\n",
       "      <th>8</th>\n",
       "      <th>9</th>\n",
       "      <th>10</th>\n",
       "      <th>11</th>\n",
       "    </tr>\n",
       "  </thead>\n",
       "  <tbody>\n",
       "    <tr>\n",
       "      <th>2</th>\n",
       "      <td>0.871232</td>\n",
       "      <td>0.931689</td>\n",
       "      <td>0.992655</td>\n",
       "      <td>0.866154</td>\n",
       "      <td>0.863792</td>\n",
       "      <td>0.736797</td>\n",
       "      <td>0.812280</td>\n",
       "      <td>0.850031</td>\n",
       "      <td>0.887859</td>\n",
       "      <td>0.789031</td>\n",
       "      <td>0.795456</td>\n",
       "      <td>0.579533</td>\n",
       "    </tr>\n",
       "    <tr>\n",
       "      <th>5</th>\n",
       "      <td>0.796125</td>\n",
       "      <td>0.881214</td>\n",
       "      <td>0.968144</td>\n",
       "      <td>0.821538</td>\n",
       "      <td>0.787553</td>\n",
       "      <td>0.666091</td>\n",
       "      <td>0.856391</td>\n",
       "      <td>0.895481</td>\n",
       "      <td>0.934808</td>\n",
       "      <td>0.848175</td>\n",
       "      <td>0.718577</td>\n",
       "      <td>0.617422</td>\n",
       "    </tr>\n",
       "    <tr>\n",
       "      <th>8</th>\n",
       "      <td>0.844565</td>\n",
       "      <td>0.913188</td>\n",
       "      <td>0.983838</td>\n",
       "      <td>0.852308</td>\n",
       "      <td>0.830512</td>\n",
       "      <td>0.719846</td>\n",
       "      <td>0.817781</td>\n",
       "      <td>0.864579</td>\n",
       "      <td>0.912620</td>\n",
       "      <td>0.829818</td>\n",
       "      <td>0.679905</td>\n",
       "      <td>0.562314</td>\n",
       "    </tr>\n",
       "  </tbody>\n",
       "</table>\n",
       "</div>"
      ],
      "text/plain": [
       "         0         1         2         3         4         5         6   \\\n",
       "2  0.871232  0.931689  0.992655  0.866154  0.863792  0.736797  0.812280   \n",
       "5  0.796125  0.881214  0.968144  0.821538  0.787553  0.666091  0.856391   \n",
       "8  0.844565  0.913188  0.983838  0.852308  0.830512  0.719846  0.817781   \n",
       "\n",
       "         7         8         9         10        11  \n",
       "2  0.850031  0.887859  0.789031  0.795456  0.579533  \n",
       "5  0.895481  0.934808  0.848175  0.718577  0.617422  \n",
       "8  0.864579  0.912620  0.829818  0.679905  0.562314  "
      ]
     },
     "execution_count": 90,
     "metadata": {},
     "output_type": "execute_result"
    }
   ],
   "source": [
    "pd.DataFrame(TF_AL_ds_av_1).iloc[2::3, :]"
   ]
  },
  {
   "cell_type": "markdown",
   "metadata": {},
   "source": [
    "### As we can see hereafter with the SF dataset, although all values for AL TF are higher than for non-AL TF and DeepSCAMs, with this study design, the differences are not statistically significant. We have only 3 samples, thus it is not possible to achieve significant difference.  "
   ]
  },
  {
   "cell_type": "code",
   "execution_count": 91,
   "metadata": {},
   "outputs": [
    {
     "data": {
      "text/plain": [
       "12"
      ]
     },
     "execution_count": 91,
     "metadata": {},
     "output_type": "execute_result"
    }
   ],
   "source": [
    "TF_AL_ds_av_1.shape[1]"
   ]
  },
  {
   "cell_type": "code",
   "execution_count": 92,
   "metadata": {
    "scrolled": true
   },
   "outputs": [
    {
     "name": "stdout",
     "output_type": "stream",
     "text": [
      "AL vs DS: 0.00390625\n",
      "non AL vs. AL: 0.00390625\n",
      "AL vs DS: 0.00390625\n",
      "non AL vs. AL: 0.00390625\n",
      "AL vs DS: 0.00390625\n",
      "non AL vs. AL: 0.00390625\n",
      "AL vs DS: 0.00390625\n",
      "non AL vs. AL: 0.00390625\n",
      "AL vs DS: 0.00390625\n",
      "non AL vs. AL: 0.00390625\n",
      "AL vs DS: 0.00390625\n",
      "non AL vs. AL: 0.00390625\n",
      "AL vs DS: 0.00390625\n",
      "non AL vs. AL: 0.00390625\n",
      "AL vs DS: 0.00390625\n",
      "non AL vs. AL: 0.00390625\n",
      "AL vs DS: 0.00390625\n",
      "non AL vs. AL: 0.00390625\n",
      "AL vs DS: 0.00390625\n",
      "non AL vs. AL: 0.00390625\n",
      "AL vs DS: 0.00390625\n",
      "non AL vs. AL: 0.00390625\n",
      "AL vs DS: 0.00390625\n",
      "non AL vs. AL: 0.00390625\n"
     ]
    }
   ],
   "source": [
    "for dim in range(TF_AL_ds_av_1.shape[1]):\n",
    "    _, p_al_non_al = wilcoxon(TF_AL_ds_av_1[:, dim], TF_non_AL_ds_av_1[:, dim])\n",
    "    _, p_al_DS = wilcoxon(TF_AL_ds_av_1[:, dim], DS_ad_av_1[:, dim])\n",
    "    print('AL vs DS:', p_al_DS)\n",
    "    print('non AL vs. AL:', p_al_non_al,)\n",
    "    "
   ]
  },
  {
   "cell_type": "markdown",
   "metadata": {},
   "source": [
    "# Study design 2"
   ]
  },
  {
   "cell_type": "code",
   "execution_count": 93,
   "metadata": {},
   "outputs": [],
   "source": [
    "def caclculate_p_each_study(path):\n",
    "    TF_AL_TF_non_AL = []\n",
    "    TF_AL_ds = []\n",
    "    study_names = []\n",
    "    TF_AL_codes = []\n",
    "    columns = []\n",
    "    for directory in Path(path).iterdir():\n",
    "        if str(directory).split('/')[-1].split('_')[1] in ['SF', 'SP1', 'SP2']:\n",
    "            study_names.append(str(directory).split('/')[-1])\n",
    "            TF_AL = pd.read_csv(directory / 'TF_ML_AL.csv').iloc[:, 2:]\n",
    "            TF_non_AL = pd.read_csv(directory / 'TF_ML_non_AL.csv').iloc[:, 2:]\n",
    "            DS = pd.read_csv(directory / 'DeepSCAMs.csv').iloc[:, 2:]\n",
    "            run_results_1 = []\n",
    "            run_results_2 = []\n",
    "            code_for_TF_AL = []\n",
    "            for col in TF_AL.columns:\n",
    "                _, p_v_al_non_al = wilcoxon(TF_AL[col], TF_non_AL[col])\n",
    "                run_results_1.append(p_v_al_non_al*12)\n",
    "                _, p_v_al_ds = wilcoxon(TF_AL[col], DS[col])\n",
    "                run_results_2.append(p_v_al_ds*12)\n",
    "                if p_v_al_non_al*12 < 0.05 and p_v_al_ds*12 < 0.05 and TF_non_AL[col].mean() < TF_AL[col].mean() > DS[col].mean():\n",
    "                    code_for_TF_AL.append('A')\n",
    "                elif TF_non_AL[col].mean() < TF_AL[col].mean() > DS[col].mean() and ((p_v_al_non_al*12 > 0.05 or p_v_al_ds*12 > 0.05) or (p_v_al_non_al*12 > 0.05 and p_v_al_ds*12 > 0.05)):\n",
    "                    code_for_TF_AL.append('B')\n",
    "                else:\n",
    "                    code_for_TF_AL.append('C')\n",
    "                \n",
    "            TF_AL_TF_non_AL.append(run_results_1)\n",
    "            TF_AL_ds.append(run_results_2)\n",
    "            TF_AL_codes.append(code_for_TF_AL)\n",
    "    columns.append(TF_AL.columns.tolist())\n",
    "    return TF_AL_TF_non_AL, TF_AL_ds, TF_AL_codes, study_names, columns"
   ]
  },
  {
   "cell_type": "markdown",
   "metadata": {},
   "source": [
    "### Study 1"
   ]
  },
  {
   "cell_type": "code",
   "execution_count": 156,
   "metadata": {
    "scrolled": false
   },
   "outputs": [],
   "source": [
    "TF_AL_TF_non_AL_1, TF_AL_ds_1, TF_AL_codes_1, directories_1, columns = caclculate_p_each_study('/home/khali/scams/Results/Study_1')"
   ]
  },
  {
   "cell_type": "code",
   "execution_count": null,
   "metadata": {},
   "outputs": [],
   "source": []
  },
  {
   "cell_type": "code",
   "execution_count": 159,
   "metadata": {},
   "outputs": [],
   "source": [
    "TF_AL_codes_1 = pd.DataFrame(TF_AL_codes_1, index=[directories_1], columns=columns)"
   ]
  },
  {
   "cell_type": "code",
   "execution_count": 180,
   "metadata": {},
   "outputs": [],
   "source": [
    "TF_AL_codes_1.to_csv('TF_AL_codes_1.csv')"
   ]
  },
  {
   "cell_type": "code",
   "execution_count": 160,
   "metadata": {},
   "outputs": [
    {
     "data": {
      "text/plain": [
       "0"
      ]
     },
     "execution_count": 160,
     "metadata": {},
     "output_type": "execute_result"
    }
   ],
   "source": [
    "TF_AL_codes_1.isin(['C']).sum(axis=0).sum()"
   ]
  },
  {
   "cell_type": "code",
   "execution_count": 161,
   "metadata": {},
   "outputs": [
    {
     "data": {
      "text/plain": [
       "13"
      ]
     },
     "execution_count": 161,
     "metadata": {},
     "output_type": "execute_result"
    }
   ],
   "source": [
    "TF_AL_codes_1.isin(['B']).sum(axis=0).sum()"
   ]
  },
  {
   "cell_type": "code",
   "execution_count": 162,
   "metadata": {
    "scrolled": false
   },
   "outputs": [
    {
     "data": {
      "text/plain": [
       "95"
      ]
     },
     "execution_count": 162,
     "metadata": {},
     "output_type": "execute_result"
    }
   ],
   "source": [
    "TF_AL_codes_1.isin(['A']).sum(axis=0).sum()"
   ]
  },
  {
   "cell_type": "code",
   "execution_count": 163,
   "metadata": {},
   "outputs": [
    {
     "data": {
      "text/plain": [
       "0.12037037037037036"
      ]
     },
     "execution_count": 163,
     "metadata": {},
     "output_type": "execute_result"
    }
   ],
   "source": [
    "13/(13+95)"
   ]
  },
  {
   "cell_type": "code",
   "execution_count": 164,
   "metadata": {},
   "outputs": [
    {
     "data": {
      "text/plain": [
       "0.8796296296296297"
      ]
     },
     "execution_count": 164,
     "metadata": {},
     "output_type": "execute_result"
    }
   ],
   "source": [
    "95/(13+95)"
   ]
  },
  {
   "cell_type": "code",
   "execution_count": 174,
   "metadata": {},
   "outputs": [],
   "source": [
    "TF_AL_TF_non_AL_1 = pd.DataFrame(TF_AL_TF_non_AL_1, index=[directories_1], columns=columns)"
   ]
  },
  {
   "cell_type": "code",
   "execution_count": 175,
   "metadata": {},
   "outputs": [],
   "source": [
    "TF_AL_TF_non_AL_1.to_csv('TF_AL_TF_non_AL_1.csv')"
   ]
  },
  {
   "cell_type": "code",
   "execution_count": 177,
   "metadata": {},
   "outputs": [],
   "source": [
    "TF_AL_ds_1 = pd.DataFrame(TF_AL_ds_1, index=[directories], columns=columns)"
   ]
  },
  {
   "cell_type": "code",
   "execution_count": 178,
   "metadata": {},
   "outputs": [],
   "source": [
    "TF_AL_ds_1.to_csv('TF_AL_ds_1.csv')"
   ]
  },
  {
   "cell_type": "markdown",
   "metadata": {},
   "source": [
    "## Study 2"
   ]
  },
  {
   "cell_type": "code",
   "execution_count": 165,
   "metadata": {},
   "outputs": [
    {
     "name": "stderr",
     "output_type": "stream",
     "text": [
      "/home/khali/anaconda3/envs/scams_project/lib/python3.7/site-packages/scipy/stats/morestats.py:2967: UserWarning: Exact p-value calculation does not work if there are ties. Switching to normal approximation.\n",
      "  warnings.warn(\"Exact p-value calculation does not work if there are \"\n",
      "/home/khali/anaconda3/envs/scams_project/lib/python3.7/site-packages/scipy/stats/morestats.py:2981: UserWarning: Sample size too small for normal approximation.\n",
      "  warnings.warn(\"Sample size too small for normal approximation.\")\n"
     ]
    }
   ],
   "source": [
    "TF_AL_TF_non_AL_2, TF_AL_ds_2, TF_AL_codes_2, directories_2, columns = caclculate_p_each_study('/home/khali/scams/Results/Study_2')"
   ]
  },
  {
   "cell_type": "code",
   "execution_count": 166,
   "metadata": {},
   "outputs": [],
   "source": [
    "TF_AL_codes_2 = pd.DataFrame(TF_AL_codes_2, index=[directories_2], columns=columns)"
   ]
  },
  {
   "cell_type": "code",
   "execution_count": 167,
   "metadata": {},
   "outputs": [
    {
     "data": {
      "text/html": [
       "<div>\n",
       "<style scoped>\n",
       "    .dataframe tbody tr th:only-of-type {\n",
       "        vertical-align: middle;\n",
       "    }\n",
       "\n",
       "    .dataframe tbody tr th {\n",
       "        vertical-align: top;\n",
       "    }\n",
       "\n",
       "    .dataframe thead tr th {\n",
       "        text-align: left;\n",
       "    }\n",
       "</style>\n",
       "<table border=\"1\" class=\"dataframe\">\n",
       "  <thead>\n",
       "    <tr>\n",
       "      <th></th>\n",
       "      <th>AUC_LB_test</th>\n",
       "      <th>AUC_test</th>\n",
       "      <th>AUC_UB_test</th>\n",
       "      <th>Accuracy_test</th>\n",
       "      <th>F1_test</th>\n",
       "      <th>MCC_test</th>\n",
       "      <th>AUC_LB_validation</th>\n",
       "      <th>AUC_validation</th>\n",
       "      <th>AUC_UB_validation</th>\n",
       "      <th>Accuracy_validation</th>\n",
       "      <th>F1_validation</th>\n",
       "      <th>MCC_validation</th>\n",
       "    </tr>\n",
       "  </thead>\n",
       "  <tbody>\n",
       "    <tr>\n",
       "      <th>ADASYN_SF_TTS</th>\n",
       "      <td>A</td>\n",
       "      <td>A</td>\n",
       "      <td>A</td>\n",
       "      <td>A</td>\n",
       "      <td>A</td>\n",
       "      <td>A</td>\n",
       "      <td>A</td>\n",
       "      <td>A</td>\n",
       "      <td>A</td>\n",
       "      <td>A</td>\n",
       "      <td>A</td>\n",
       "      <td>A</td>\n",
       "    </tr>\n",
       "    <tr>\n",
       "      <th>SMOTE_SP2_TTS</th>\n",
       "      <td>A</td>\n",
       "      <td>A</td>\n",
       "      <td>A</td>\n",
       "      <td>A</td>\n",
       "      <td>A</td>\n",
       "      <td>A</td>\n",
       "      <td>A</td>\n",
       "      <td>A</td>\n",
       "      <td>A</td>\n",
       "      <td>A</td>\n",
       "      <td>A</td>\n",
       "      <td>A</td>\n",
       "    </tr>\n",
       "    <tr>\n",
       "      <th>IHT_SF_TTS</th>\n",
       "      <td>B</td>\n",
       "      <td>B</td>\n",
       "      <td>B</td>\n",
       "      <td>A</td>\n",
       "      <td>B</td>\n",
       "      <td>A</td>\n",
       "      <td>A</td>\n",
       "      <td>A</td>\n",
       "      <td>A</td>\n",
       "      <td>A</td>\n",
       "      <td>A</td>\n",
       "      <td>A</td>\n",
       "    </tr>\n",
       "    <tr>\n",
       "      <th>CNN_SP2_TTS</th>\n",
       "      <td>A</td>\n",
       "      <td>A</td>\n",
       "      <td>A</td>\n",
       "      <td>A</td>\n",
       "      <td>A</td>\n",
       "      <td>A</td>\n",
       "      <td>A</td>\n",
       "      <td>A</td>\n",
       "      <td>A</td>\n",
       "      <td>A</td>\n",
       "      <td>A</td>\n",
       "      <td>A</td>\n",
       "    </tr>\n",
       "    <tr>\n",
       "      <th>CNN_SF_TTS</th>\n",
       "      <td>B</td>\n",
       "      <td>A</td>\n",
       "      <td>A</td>\n",
       "      <td>A</td>\n",
       "      <td>B</td>\n",
       "      <td>A</td>\n",
       "      <td>A</td>\n",
       "      <td>A</td>\n",
       "      <td>A</td>\n",
       "      <td>A</td>\n",
       "      <td>A</td>\n",
       "      <td>A</td>\n",
       "    </tr>\n",
       "    <tr>\n",
       "      <th>SMOTE_SF_TTS</th>\n",
       "      <td>A</td>\n",
       "      <td>A</td>\n",
       "      <td>A</td>\n",
       "      <td>A</td>\n",
       "      <td>A</td>\n",
       "      <td>A</td>\n",
       "      <td>A</td>\n",
       "      <td>A</td>\n",
       "      <td>A</td>\n",
       "      <td>A</td>\n",
       "      <td>A</td>\n",
       "      <td>A</td>\n",
       "    </tr>\n",
       "    <tr>\n",
       "      <th>ADASYN_SP2_TTS</th>\n",
       "      <td>A</td>\n",
       "      <td>A</td>\n",
       "      <td>A</td>\n",
       "      <td>A</td>\n",
       "      <td>A</td>\n",
       "      <td>A</td>\n",
       "      <td>A</td>\n",
       "      <td>A</td>\n",
       "      <td>A</td>\n",
       "      <td>A</td>\n",
       "      <td>A</td>\n",
       "      <td>A</td>\n",
       "    </tr>\n",
       "    <tr>\n",
       "      <th>IHT_SP2_TTS</th>\n",
       "      <td>B</td>\n",
       "      <td>B</td>\n",
       "      <td>B</td>\n",
       "      <td>B</td>\n",
       "      <td>B</td>\n",
       "      <td>B</td>\n",
       "      <td>A</td>\n",
       "      <td>A</td>\n",
       "      <td>A</td>\n",
       "      <td>A</td>\n",
       "      <td>A</td>\n",
       "      <td>A</td>\n",
       "    </tr>\n",
       "  </tbody>\n",
       "</table>\n",
       "</div>"
      ],
      "text/plain": [
       "               AUC_LB_test AUC_test AUC_UB_test Accuracy_test F1_test  \\\n",
       "ADASYN_SF_TTS            A        A           A             A       A   \n",
       "SMOTE_SP2_TTS            A        A           A             A       A   \n",
       "IHT_SF_TTS               B        B           B             A       B   \n",
       "CNN_SP2_TTS              A        A           A             A       A   \n",
       "CNN_SF_TTS               B        A           A             A       B   \n",
       "SMOTE_SF_TTS             A        A           A             A       A   \n",
       "ADASYN_SP2_TTS           A        A           A             A       A   \n",
       "IHT_SP2_TTS              B        B           B             B       B   \n",
       "\n",
       "               MCC_test AUC_LB_validation AUC_validation AUC_UB_validation  \\\n",
       "ADASYN_SF_TTS         A                 A              A                 A   \n",
       "SMOTE_SP2_TTS         A                 A              A                 A   \n",
       "IHT_SF_TTS            A                 A              A                 A   \n",
       "CNN_SP2_TTS           A                 A              A                 A   \n",
       "CNN_SF_TTS            A                 A              A                 A   \n",
       "SMOTE_SF_TTS          A                 A              A                 A   \n",
       "ADASYN_SP2_TTS        A                 A              A                 A   \n",
       "IHT_SP2_TTS           B                 A              A                 A   \n",
       "\n",
       "               Accuracy_validation F1_validation MCC_validation  \n",
       "ADASYN_SF_TTS                    A             A              A  \n",
       "SMOTE_SP2_TTS                    A             A              A  \n",
       "IHT_SF_TTS                       A             A              A  \n",
       "CNN_SP2_TTS                      A             A              A  \n",
       "CNN_SF_TTS                       A             A              A  \n",
       "SMOTE_SF_TTS                     A             A              A  \n",
       "ADASYN_SP2_TTS                   A             A              A  \n",
       "IHT_SP2_TTS                      A             A              A  "
      ]
     },
     "execution_count": 167,
     "metadata": {},
     "output_type": "execute_result"
    }
   ],
   "source": [
    "TF_AL_codes_2"
   ]
  },
  {
   "cell_type": "code",
   "execution_count": 168,
   "metadata": {},
   "outputs": [
    {
     "data": {
      "text/plain": [
       "0"
      ]
     },
     "execution_count": 168,
     "metadata": {},
     "output_type": "execute_result"
    }
   ],
   "source": [
    "TF_AL_codes_2.isin(['C']).sum(axis=0).sum()"
   ]
  },
  {
   "cell_type": "code",
   "execution_count": 169,
   "metadata": {},
   "outputs": [
    {
     "data": {
      "text/plain": [
       "12"
      ]
     },
     "execution_count": 169,
     "metadata": {},
     "output_type": "execute_result"
    }
   ],
   "source": [
    "TF_AL_codes_2.isin(['B']).sum(axis=0).sum()"
   ]
  },
  {
   "cell_type": "code",
   "execution_count": 170,
   "metadata": {},
   "outputs": [
    {
     "data": {
      "text/plain": [
       "84"
      ]
     },
     "execution_count": 170,
     "metadata": {},
     "output_type": "execute_result"
    }
   ],
   "source": [
    "TF_AL_codes_2.isin(['A']).sum(axis=0).sum()"
   ]
  },
  {
   "cell_type": "code",
   "execution_count": 171,
   "metadata": {},
   "outputs": [
    {
     "data": {
      "text/plain": [
       "0.125"
      ]
     },
     "execution_count": 171,
     "metadata": {},
     "output_type": "execute_result"
    }
   ],
   "source": [
    "12/(12+84)"
   ]
  },
  {
   "cell_type": "code",
   "execution_count": 172,
   "metadata": {},
   "outputs": [
    {
     "data": {
      "text/plain": [
       "0.875"
      ]
     },
     "execution_count": 172,
     "metadata": {},
     "output_type": "execute_result"
    }
   ],
   "source": [
    "84/(12+84)"
   ]
  },
  {
   "cell_type": "code",
   "execution_count": null,
   "metadata": {},
   "outputs": [],
   "source": []
  }
 ],
 "metadata": {
  "kernelspec": {
   "display_name": "scams_project",
   "language": "python",
   "name": "scams_project"
  },
  "language_info": {
   "codemirror_mode": {
    "name": "ipython",
    "version": 3
   },
   "file_extension": ".py",
   "mimetype": "text/x-python",
   "name": "python",
   "nbconvert_exporter": "python",
   "pygments_lexer": "ipython3",
   "version": "3.7.9"
  }
 },
 "nbformat": 4,
 "nbformat_minor": 4
}
